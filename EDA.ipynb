{
 "cells": [
  {
   "cell_type": "code",
   "execution_count": 2,
   "metadata": {},
   "outputs": [],
   "source": [
    "import pandas as pd"
   ]
  },
  {
   "cell_type": "code",
   "execution_count": 3,
   "metadata": {},
   "outputs": [],
   "source": [
    "df_ratings = pd.read_pickle('sampled_ratings.pkl')\n",
    "df_movies = pd.read_pickle('movies_2000.pkl')\n",
    "\n",
    "# Count the number of reviews for each movie\n",
    "movie_review_counts = df_ratings['movieId'].value_counts()"
   ]
  },
  {
   "cell_type": "code",
   "execution_count": 16,
   "metadata": {},
   "outputs": [],
   "source": [
    "review_threshold = 3\n",
    "\n",
    "# Filter out movies with reviews less than the threshold\n",
    "movies_to_keep = movie_review_counts[movie_review_counts >= review_threshold].index\n",
    "df_movies_filtered = df_movies[df_movies['movieId'].isin(movies_to_keep)]\n"
   ]
  },
  {
   "cell_type": "code",
   "execution_count": 22,
   "metadata": {},
   "outputs": [
    {
     "data": {
      "text/html": [
       "<div>\n",
       "<style scoped>\n",
       "    .dataframe tbody tr th:only-of-type {\n",
       "        vertical-align: middle;\n",
       "    }\n",
       "\n",
       "    .dataframe tbody tr th {\n",
       "        vertical-align: top;\n",
       "    }\n",
       "\n",
       "    .dataframe thead th {\n",
       "        text-align: right;\n",
       "    }\n",
       "</style>\n",
       "<table border=\"1\" class=\"dataframe\">\n",
       "  <thead>\n",
       "    <tr style=\"text-align: right;\">\n",
       "      <th></th>\n",
       "      <th>movieId</th>\n",
       "      <th>title</th>\n",
       "      <th>genres</th>\n",
       "    </tr>\n",
       "  </thead>\n",
       "  <tbody>\n",
       "    <tr>\n",
       "      <th>2677</th>\n",
       "      <td>2769</td>\n",
       "      <td>Yards, The (2000)</td>\n",
       "      <td>Crime|Drama</td>\n",
       "    </tr>\n",
       "    <tr>\n",
       "      <th>3084</th>\n",
       "      <td>3177</td>\n",
       "      <td>Next Friday (2000)</td>\n",
       "      <td>Comedy</td>\n",
       "    </tr>\n",
       "    <tr>\n",
       "      <th>3097</th>\n",
       "      <td>3190</td>\n",
       "      <td>Supernova (2000)</td>\n",
       "      <td>Adventure|Sci-Fi|Thriller</td>\n",
       "    </tr>\n",
       "    <tr>\n",
       "      <th>3132</th>\n",
       "      <td>3225</td>\n",
       "      <td>Down to You (2000)</td>\n",
       "      <td>Comedy|Romance</td>\n",
       "    </tr>\n",
       "    <tr>\n",
       "      <th>3146</th>\n",
       "      <td>3239</td>\n",
       "      <td>Isn't She Great? (2000)</td>\n",
       "      <td>Comedy</td>\n",
       "    </tr>\n",
       "    <tr>\n",
       "      <th>...</th>\n",
       "      <td>...</td>\n",
       "      <td>...</td>\n",
       "      <td>...</td>\n",
       "    </tr>\n",
       "    <tr>\n",
       "      <th>61935</th>\n",
       "      <td>207309</td>\n",
       "      <td>Fractured (2019)</td>\n",
       "      <td>Thriller</td>\n",
       "    </tr>\n",
       "    <tr>\n",
       "      <th>61960</th>\n",
       "      <td>207367</td>\n",
       "      <td>Little Monsters (2019)</td>\n",
       "      <td>Comedy|Horror</td>\n",
       "    </tr>\n",
       "    <tr>\n",
       "      <th>62088</th>\n",
       "      <td>207830</td>\n",
       "      <td>Terminator: Dark Fate (2019)</td>\n",
       "      <td>Action|Sci-Fi</td>\n",
       "    </tr>\n",
       "    <tr>\n",
       "      <th>62319</th>\n",
       "      <td>208737</td>\n",
       "      <td>Midway (2019)</td>\n",
       "      <td>Action|Drama|War</td>\n",
       "    </tr>\n",
       "    <tr>\n",
       "      <th>62374</th>\n",
       "      <td>208939</td>\n",
       "      <td>Klaus (2019)</td>\n",
       "      <td>Adventure|Animation|Children|Comedy</td>\n",
       "    </tr>\n",
       "  </tbody>\n",
       "</table>\n",
       "<p>9254 rows × 3 columns</p>\n",
       "</div>"
      ],
      "text/plain": [
       "       movieId                         title  \\\n",
       "2677      2769             Yards, The (2000)   \n",
       "3084      3177            Next Friday (2000)   \n",
       "3097      3190              Supernova (2000)   \n",
       "3132      3225            Down to You (2000)   \n",
       "3146      3239       Isn't She Great? (2000)   \n",
       "...        ...                           ...   \n",
       "61935   207309              Fractured (2019)   \n",
       "61960   207367        Little Monsters (2019)   \n",
       "62088   207830  Terminator: Dark Fate (2019)   \n",
       "62319   208737                 Midway (2019)   \n",
       "62374   208939                  Klaus (2019)   \n",
       "\n",
       "                                    genres  \n",
       "2677                           Crime|Drama  \n",
       "3084                                Comedy  \n",
       "3097             Adventure|Sci-Fi|Thriller  \n",
       "3132                        Comedy|Romance  \n",
       "3146                                Comedy  \n",
       "...                                    ...  \n",
       "61935                             Thriller  \n",
       "61960                        Comedy|Horror  \n",
       "62088                        Action|Sci-Fi  \n",
       "62319                     Action|Drama|War  \n",
       "62374  Adventure|Animation|Children|Comedy  \n",
       "\n",
       "[9254 rows x 3 columns]"
      ]
     },
     "execution_count": 22,
     "metadata": {},
     "output_type": "execute_result"
    }
   ],
   "source": [
    "df_movies_filtered.to_pickle('reviewed_movies.pkl')\n",
    "df_movies_filtered"
   ]
  },
  {
   "cell_type": "code",
   "execution_count": 19,
   "metadata": {},
   "outputs": [],
   "source": [
    "df_ratings_filtered = df_ratings[df_ratings['movieId'].isin(movies_to_keep)]\n"
   ]
  },
  {
   "cell_type": "code",
   "execution_count": 23,
   "metadata": {},
   "outputs": [],
   "source": [
    "df_ratings_filtered.to_pickle('ratings_reviews.pkl')"
   ]
  },
  {
   "cell_type": "code",
   "execution_count": 24,
   "metadata": {},
   "outputs": [],
   "source": [
    "df_genome = pd.read_pickle('filtered_genome.pkl')"
   ]
  },
  {
   "cell_type": "code",
   "execution_count": 28,
   "metadata": {},
   "outputs": [],
   "source": [
    "df_genome.merge(df_movies_filtered['movieId']).to_pickle('genome_reviews.pkl')"
   ]
  },
  {
   "cell_type": "code",
   "execution_count": 29,
   "metadata": {},
   "outputs": [],
   "source": [
    "df_links = pd.read_pickle('links_2000.pkl')"
   ]
  },
  {
   "cell_type": "code",
   "execution_count": 34,
   "metadata": {},
   "outputs": [],
   "source": [
    "df_links.merge(df_movies_filtered['movieId']).to_pickle('links_reviews.pkl')"
   ]
  },
  {
   "cell_type": "code",
   "execution_count": 37,
   "metadata": {},
   "outputs": [
    {
     "name": "stdout",
     "output_type": "stream",
     "text": [
      "Evaluating RMSE, MAE of algorithm SVD on 5 split(s).\n",
      "\n",
      "                  Fold 1  Fold 2  Fold 3  Fold 4  Fold 5  Mean    Std     \n",
      "RMSE (testset)    0.8942  0.8945  0.8944  0.8982  0.8933  0.8949  0.0017  \n",
      "MAE (testset)     0.6787  0.6783  0.6784  0.6810  0.6780  0.6789  0.0011  \n",
      "Fit time          6.43    6.18    5.97    6.51    6.27    6.27    0.19    \n",
      "Test time         1.16    1.63    0.93    1.11    1.02    1.17    0.24    \n"
     ]
    }
   ],
   "source": [
    "import pandas as pd\n",
    "from surprise import Dataset, Reader, SVD\n",
    "from surprise.model_selection import train_test_split, cross_validate\n",
    "\n",
    "# Prepare data for the Surprise library\n",
    "reader = Reader(rating_scale=(0.5, 5.0))\n",
    "data = Dataset.load_from_df(df_ratings_filtered[['userId', 'movieId', 'rating']], reader)\n",
    "\n",
    "# Train the SVD model\n",
    "svd = SVD()\n",
    "\n",
    "# Evaluate the model using cross-validation\n",
    "cross_validate(svd, data, measures=['RMSE', 'MAE'], cv=5, verbose=True)\n",
    "\n",
    "# Fit the model on the sampled dataset\n",
    "trainset = data.build_full_trainset()\n",
    "svd.fit(trainset)\n",
    "\n",
    "# Save the trained model (optional)\n",
    "import pickle\n",
    "with open('svd_model_reviews.pkl', 'wb') as f:\n",
    "    pickle.dump(svd, f)"
   ]
  },
  {
   "cell_type": "code",
   "execution_count": 7,
   "metadata": {},
   "outputs": [],
   "source": [
    "# Pivot the genome scores to create a feature matrix\n",
    "df_features = df_genome_scores.pivot(index='movieId', columns='tagId', values='relevance').fillna(0)\n",
    "from sklearn.metrics.pairwise import cosine_similarity\n",
    "\n",
    "# Calculate cosine similarity matrix for movies\n",
    "cosine_sim = cosine_similarity(df_features)\n"
   ]
  },
  {
   "cell_type": "code",
   "execution_count": 10,
   "metadata": {},
   "outputs": [
    {
     "data": {
      "text/plain": [
       "13816"
      ]
     },
     "execution_count": 10,
     "metadata": {},
     "output_type": "execute_result"
    }
   ],
   "source": [
    "len(df_genome_scores['movieId'].unique())"
   ]
  },
  {
   "cell_type": "code",
   "execution_count": 19,
   "metadata": {},
   "outputs": [],
   "source": [
    "import pickle\n",
    "# Load the trained SVD model\n",
    "with open('svd_model.pkl', 'rb') as f:\n",
    "    svd = pickle.load(f)\n"
   ]
  },
  {
   "cell_type": "code",
   "execution_count": 1,
   "metadata": {},
   "outputs": [
    {
     "ename": "NameError",
     "evalue": "name 'df_ratings' is not defined",
     "output_type": "error",
     "traceback": [
      "\u001b[0;31m---------------------------------------------------------------------------\u001b[0m",
      "\u001b[0;31mNameError\u001b[0m                                 Traceback (most recent call last)",
      "Cell \u001b[0;32mIn[1], line 25\u001b[0m\n\u001b[1;32m     23\u001b[0m user_id \u001b[38;5;241m=\u001b[39m \u001b[38;5;241m1\u001b[39m\n\u001b[1;32m     24\u001b[0m liked_movies \u001b[38;5;241m=\u001b[39m [\u001b[38;5;124m'\u001b[39m\u001b[38;5;124mToy Story (1995)\u001b[39m\u001b[38;5;124m'\u001b[39m, \u001b[38;5;124m'\u001b[39m\u001b[38;5;124mJumanji (1995)\u001b[39m\u001b[38;5;124m'\u001b[39m]\n\u001b[0;32m---> 25\u001b[0m \u001b[38;5;28mprint\u001b[39m(hybrid_recommendation(user_id, liked_movies, top_n\u001b[38;5;241m=\u001b[39m\u001b[38;5;241m10\u001b[39m))\n",
      "Cell \u001b[0;32mIn[1], line 3\u001b[0m, in \u001b[0;36mhybrid_recommendation\u001b[0;34m(user_id, liked_movies, top_n)\u001b[0m\n\u001b[1;32m      1\u001b[0m \u001b[38;5;28;01mdef\u001b[39;00m \u001b[38;5;21mhybrid_recommendation\u001b[39m(user_id, liked_movies, top_n\u001b[38;5;241m=\u001b[39m\u001b[38;5;241m10\u001b[39m):\n\u001b[1;32m      2\u001b[0m     \u001b[38;5;66;03m# Collaborative Filtering Recommendations\u001b[39;00m\n\u001b[0;32m----> 3\u001b[0m     user_rated_movies \u001b[38;5;241m=\u001b[39m df_ratings[df_ratings[\u001b[38;5;124m'\u001b[39m\u001b[38;5;124muserId\u001b[39m\u001b[38;5;124m'\u001b[39m] \u001b[38;5;241m==\u001b[39m user_id][\u001b[38;5;124m'\u001b[39m\u001b[38;5;124mmovieId\u001b[39m\u001b[38;5;124m'\u001b[39m]\u001b[38;5;241m.\u001b[39mtolist()\n\u001b[1;32m      4\u001b[0m     predictions \u001b[38;5;241m=\u001b[39m [svd\u001b[38;5;241m.\u001b[39mpredict(user_id, mid) \u001b[38;5;28;01mfor\u001b[39;00m mid \u001b[38;5;129;01min\u001b[39;00m df_features\u001b[38;5;241m.\u001b[39mindex \u001b[38;5;28;01mif\u001b[39;00m mid \u001b[38;5;129;01mnot\u001b[39;00m \u001b[38;5;129;01min\u001b[39;00m user_rated_movies]\n\u001b[1;32m      5\u001b[0m     cf_recommendations \u001b[38;5;241m=\u001b[39m \u001b[38;5;28msorted\u001b[39m(predictions, key\u001b[38;5;241m=\u001b[39m\u001b[38;5;28;01mlambda\u001b[39;00m x: x\u001b[38;5;241m.\u001b[39mest, reverse\u001b[38;5;241m=\u001b[39m\u001b[38;5;28;01mTrue\u001b[39;00m)[:top_n]\n",
      "\u001b[0;31mNameError\u001b[0m: name 'df_ratings' is not defined"
     ]
    }
   ],
   "source": [
    "def hybrid_recommendation(user_id, liked_movies, top_n=10):\n",
    "    # Collaborative Filtering Recommendations\n",
    "    user_rated_movies = df_ratings[df_ratings['userId'] == user_id]['movieId'].tolist()\n",
    "    predictions = [svd.predict(user_id, mid) for mid in df_features.index if mid not in user_rated_movies]\n",
    "    cf_recommendations = sorted(predictions, key=lambda x: x.est, reverse=True)[:top_n]\n",
    "    cf_movie_ids = [pred.iid for pred in cf_recommendations]\n",
    "\n",
    "    # Content-Based Filtering Recommendations\n",
    "    liked_movie_ids = [df_movies[df_movies['title'] == movie]['movieId'].values[0] for movie in liked_movies]\n",
    "    liked_movie_indices = [df_features.index.get_loc(mid) for mid in liked_movie_ids]\n",
    "    content_sim_scores = cosine_sim[liked_movie_indices].mean(axis=0)\n",
    "    content_movie_indices = content_sim_scores.argsort()[::-1][:top_n]\n",
    "    \n",
    "    content_movie_ids = [df_features.index[idx] for idx in content_movie_indices]\n",
    "\n",
    "    # Combine Recommendations\n",
    "    combined_movie_ids = list(set(cf_movie_ids + content_movie_ids))[:top_n]\n",
    "    recommended_movies = [df_movies[df_movies['movieId'] == mid]['title'].values[0] for mid in combined_movie_ids]\n",
    "    \n",
    "    return recommended_movies\n",
    "\n",
    "# Example usage\n",
    "user_id = 1\n",
    "liked_movies = ['Toy Story (1995)', 'Jumanji (1995)']\n",
    "print(hybrid_recommendation(user_id, liked_movies, top_n=10))\n"
   ]
  },
  {
   "cell_type": "code",
   "execution_count": 1,
   "metadata": {},
   "outputs": [
    {
     "name": "stdout",
     "output_type": "stream",
     "text": [
      "72d373c2256e074a908498b1c7bbd85f5a5a603ff233d451\n"
     ]
    }
   ],
   "source": [
    "import secrets\n",
    "secret_key = secrets.token_hex(24)\n",
    "print(secret_key)"
   ]
  },
  {
   "cell_type": "code",
   "execution_count": 10,
   "metadata": {},
   "outputs": [],
   "source": [
    "def split_title_and_year(title):\n",
    "    if ' (' in title and title.endswith(')'):\n",
    "        parts = title.rsplit(' (', 1)\n",
    "        year = parts[-1][:-1]  # Remove the closing parenthesis\n",
    "        if year.isdigit():\n",
    "            title = parts[0]\n",
    "            return title.strip(), int(year)\n",
    "    return title, None\n",
    "\n",
    "\n",
    "# Apply the function to the title column and create new columns\n",
    "df_movies[['title', 'year']] = df_movies['title'].apply(lambda x: pd.Series(split_title_and_year(x)))\n"
   ]
  },
  {
   "cell_type": "code",
   "execution_count": 16,
   "metadata": {},
   "outputs": [
    {
     "data": {
      "text/html": [
       "<div>\n",
       "<style scoped>\n",
       "    .dataframe tbody tr th:only-of-type {\n",
       "        vertical-align: middle;\n",
       "    }\n",
       "\n",
       "    .dataframe tbody tr th {\n",
       "        vertical-align: top;\n",
       "    }\n",
       "\n",
       "    .dataframe thead th {\n",
       "        text-align: right;\n",
       "    }\n",
       "</style>\n",
       "<table border=\"1\" class=\"dataframe\">\n",
       "  <thead>\n",
       "    <tr style=\"text-align: right;\">\n",
       "      <th></th>\n",
       "      <th>movieId</th>\n",
       "      <th>title</th>\n",
       "      <th>genres</th>\n",
       "      <th>year</th>\n",
       "    </tr>\n",
       "  </thead>\n",
       "  <tbody>\n",
       "    <tr>\n",
       "      <th>2677</th>\n",
       "      <td>2769</td>\n",
       "      <td>Yards, The</td>\n",
       "      <td>Crime|Drama</td>\n",
       "      <td>2000.0</td>\n",
       "    </tr>\n",
       "    <tr>\n",
       "      <th>3084</th>\n",
       "      <td>3177</td>\n",
       "      <td>Next Friday</td>\n",
       "      <td>Comedy</td>\n",
       "      <td>2000.0</td>\n",
       "    </tr>\n",
       "    <tr>\n",
       "      <th>3097</th>\n",
       "      <td>3190</td>\n",
       "      <td>Supernova</td>\n",
       "      <td>Adventure|Sci-Fi|Thriller</td>\n",
       "      <td>2000.0</td>\n",
       "    </tr>\n",
       "    <tr>\n",
       "      <th>3132</th>\n",
       "      <td>3225</td>\n",
       "      <td>Down to You</td>\n",
       "      <td>Comedy|Romance</td>\n",
       "      <td>2000.0</td>\n",
       "    </tr>\n",
       "    <tr>\n",
       "      <th>3135</th>\n",
       "      <td>3228</td>\n",
       "      <td>Wirey Spindell</td>\n",
       "      <td>Comedy</td>\n",
       "      <td>2000.0</td>\n",
       "    </tr>\n",
       "    <tr>\n",
       "      <th>...</th>\n",
       "      <td>...</td>\n",
       "      <td>...</td>\n",
       "      <td>...</td>\n",
       "      <td>...</td>\n",
       "    </tr>\n",
       "    <tr>\n",
       "      <th>62417</th>\n",
       "      <td>209155</td>\n",
       "      <td>Santosh Subramaniam</td>\n",
       "      <td>Action|Comedy|Romance</td>\n",
       "      <td>2008.0</td>\n",
       "    </tr>\n",
       "    <tr>\n",
       "      <th>62418</th>\n",
       "      <td>209157</td>\n",
       "      <td>We</td>\n",
       "      <td>Drama</td>\n",
       "      <td>2018.0</td>\n",
       "    </tr>\n",
       "    <tr>\n",
       "      <th>62419</th>\n",
       "      <td>209159</td>\n",
       "      <td>Window of the Soul</td>\n",
       "      <td>Documentary</td>\n",
       "      <td>2001.0</td>\n",
       "    </tr>\n",
       "    <tr>\n",
       "      <th>62420</th>\n",
       "      <td>209163</td>\n",
       "      <td>Bad Poems</td>\n",
       "      <td>Comedy|Drama</td>\n",
       "      <td>2018.0</td>\n",
       "    </tr>\n",
       "    <tr>\n",
       "      <th>62421</th>\n",
       "      <td>209169</td>\n",
       "      <td>A Girl Thing</td>\n",
       "      <td>(no genres listed)</td>\n",
       "      <td>2001.0</td>\n",
       "    </tr>\n",
       "  </tbody>\n",
       "</table>\n",
       "<p>33070 rows × 4 columns</p>\n",
       "</div>"
      ],
      "text/plain": [
       "       movieId                title                     genres    year\n",
       "2677      2769           Yards, The                Crime|Drama  2000.0\n",
       "3084      3177          Next Friday                     Comedy  2000.0\n",
       "3097      3190            Supernova  Adventure|Sci-Fi|Thriller  2000.0\n",
       "3132      3225          Down to You             Comedy|Romance  2000.0\n",
       "3135      3228       Wirey Spindell                     Comedy  2000.0\n",
       "...        ...                  ...                        ...     ...\n",
       "62417   209155  Santosh Subramaniam      Action|Comedy|Romance  2008.0\n",
       "62418   209157                   We                      Drama  2018.0\n",
       "62419   209159   Window of the Soul                Documentary  2001.0\n",
       "62420   209163            Bad Poems               Comedy|Drama  2018.0\n",
       "62421   209169         A Girl Thing         (no genres listed)  2001.0\n",
       "\n",
       "[33070 rows x 4 columns]"
      ]
     },
     "execution_count": 16,
     "metadata": {},
     "output_type": "execute_result"
    }
   ],
   "source": [
    "df_movies[df_movies['year']>1999]"
   ]
  },
  {
   "cell_type": "code",
   "execution_count": 18,
   "metadata": {},
   "outputs": [],
   "source": [
    "import pandas as pd\n",
    "from surprise import Dataset, Reader, SVD\n",
    "from surprise.model_selection import cross_validate\n",
    "\n",
    "# Load your dataset (replace 'ratings.csv' and 'movies.csv' with your actual dataset files)\n",
    "ratings = pd.read_csv('ratings.csv')\n",
    "movies = pd.read_csv('movies.csv')\n",
    "\n",
    "# Function to split title and year\n",
    "def split_title_and_year(title):\n",
    "    if ' (' in title and title.endswith(')'):\n",
    "        parts = title.rsplit(' (', 1)\n",
    "        year = parts[-1][:-1]  # Remove the closing parenthesis\n",
    "        if year.isdigit():\n",
    "            return title, int(year)\n",
    "    return title, None\n",
    "\n",
    "# Apply the function to the title column and create new columns\n",
    "movies[['title', 'year']] = movies['title'].apply(lambda x: pd.Series(split_title_and_year(x)))\n",
    "\n",
    "# Filter movies from the year 2000 and onwards\n",
    "# movies_filtered = movies[movies['year'] >= 2000]\n",
    "\n",
    "# # Merge the ratings with the filtered movies to get only relevant ratings\n",
    "# filtered_ratings = pd.merge(ratings, movies_filtered[['movieId']], on='movieId')\n",
    "\n",
    "# # Prepare data for the Surprise library\n",
    "# reader = Reader(rating_scale=(0.5, 5.0))\n",
    "# data = Dataset.load_from_df(filtered_ratings[['userId', 'movieId', 'rating']], reader)\n",
    "\n",
    "# # Train the SVD model\n",
    "# svd = SVD()\n",
    "\n",
    "# # Evaluate the model using cross-validation\n",
    "# cross_validate(svd, data, measures=['RMSE', 'MAE'], cv=5, verbose=True)\n",
    "\n",
    "# # Fit the model on the whole dataset\n",
    "# trainset = data.build_full_trainset()\n",
    "# svd.fit(trainset)\n",
    "\n",
    "# # Save the trained model (optional)\n",
    "# import pickle\n",
    "# with open('svd_model.pkl', 'wb') as f:\n",
    "#     pickle.dump(svd, f)\n",
    "\n",
    "# # Example of making a prediction\n",
    "# user_id = 1  # replace with actual user_id\n",
    "# movie_id = 1  # replace with actual movie_id\n",
    "# prediction = svd.predict(user_id, movie_id)\n",
    "# print(prediction)\n"
   ]
  },
  {
   "cell_type": "code",
   "execution_count": 22,
   "metadata": {},
   "outputs": [],
   "source": [
    "df_movies_filtered = movies[movies['year']>1999]"
   ]
  },
  {
   "cell_type": "code",
   "execution_count": 25,
   "metadata": {},
   "outputs": [],
   "source": [
    "df_movies_filtered.drop('year',axis=1).to_pickle('movies_2000.pkl')"
   ]
  },
  {
   "cell_type": "markdown",
   "metadata": {},
   "source": []
  },
  {
   "cell_type": "code",
   "execution_count": 23,
   "metadata": {},
   "outputs": [],
   "source": [
    "movies_filtered."
   ]
  },
  {
   "cell_type": "code",
   "execution_count": 28,
   "metadata": {},
   "outputs": [],
   "source": [
    "df_genome_scores.merge(movies_filtered['movieId'],on='movieId',how='right').dropna().to_pickle('filtered_genome.pkl')"
   ]
  },
  {
   "cell_type": "code",
   "execution_count": 1,
   "metadata": {},
   "outputs": [],
   "source": [
    "import pandas as pd"
   ]
  },
  {
   "cell_type": "code",
   "execution_count": 2,
   "metadata": {},
   "outputs": [],
   "source": [
    "df = pd.read_pickle('movies_2000.pkl')"
   ]
  },
  {
   "cell_type": "code",
   "execution_count": 3,
   "metadata": {},
   "outputs": [
    {
     "data": {
      "text/html": [
       "<div>\n",
       "<style scoped>\n",
       "    .dataframe tbody tr th:only-of-type {\n",
       "        vertical-align: middle;\n",
       "    }\n",
       "\n",
       "    .dataframe tbody tr th {\n",
       "        vertical-align: top;\n",
       "    }\n",
       "\n",
       "    .dataframe thead th {\n",
       "        text-align: right;\n",
       "    }\n",
       "</style>\n",
       "<table border=\"1\" class=\"dataframe\">\n",
       "  <thead>\n",
       "    <tr style=\"text-align: right;\">\n",
       "      <th></th>\n",
       "      <th>movieId</th>\n",
       "      <th>title</th>\n",
       "      <th>genres</th>\n",
       "      <th>year</th>\n",
       "    </tr>\n",
       "  </thead>\n",
       "  <tbody>\n",
       "    <tr>\n",
       "      <th>2677</th>\n",
       "      <td>2769</td>\n",
       "      <td>Yards, The</td>\n",
       "      <td>Crime|Drama</td>\n",
       "      <td>2000.0</td>\n",
       "    </tr>\n",
       "    <tr>\n",
       "      <th>3084</th>\n",
       "      <td>3177</td>\n",
       "      <td>Next Friday</td>\n",
       "      <td>Comedy</td>\n",
       "      <td>2000.0</td>\n",
       "    </tr>\n",
       "    <tr>\n",
       "      <th>3097</th>\n",
       "      <td>3190</td>\n",
       "      <td>Supernova</td>\n",
       "      <td>Adventure|Sci-Fi|Thriller</td>\n",
       "      <td>2000.0</td>\n",
       "    </tr>\n",
       "    <tr>\n",
       "      <th>3132</th>\n",
       "      <td>3225</td>\n",
       "      <td>Down to You</td>\n",
       "      <td>Comedy|Romance</td>\n",
       "      <td>2000.0</td>\n",
       "    </tr>\n",
       "    <tr>\n",
       "      <th>3135</th>\n",
       "      <td>3228</td>\n",
       "      <td>Wirey Spindell</td>\n",
       "      <td>Comedy</td>\n",
       "      <td>2000.0</td>\n",
       "    </tr>\n",
       "    <tr>\n",
       "      <th>...</th>\n",
       "      <td>...</td>\n",
       "      <td>...</td>\n",
       "      <td>...</td>\n",
       "      <td>...</td>\n",
       "    </tr>\n",
       "    <tr>\n",
       "      <th>62417</th>\n",
       "      <td>209155</td>\n",
       "      <td>Santosh Subramaniam</td>\n",
       "      <td>Action|Comedy|Romance</td>\n",
       "      <td>2008.0</td>\n",
       "    </tr>\n",
       "    <tr>\n",
       "      <th>62418</th>\n",
       "      <td>209157</td>\n",
       "      <td>We</td>\n",
       "      <td>Drama</td>\n",
       "      <td>2018.0</td>\n",
       "    </tr>\n",
       "    <tr>\n",
       "      <th>62419</th>\n",
       "      <td>209159</td>\n",
       "      <td>Window of the Soul</td>\n",
       "      <td>Documentary</td>\n",
       "      <td>2001.0</td>\n",
       "    </tr>\n",
       "    <tr>\n",
       "      <th>62420</th>\n",
       "      <td>209163</td>\n",
       "      <td>Bad Poems</td>\n",
       "      <td>Comedy|Drama</td>\n",
       "      <td>2018.0</td>\n",
       "    </tr>\n",
       "    <tr>\n",
       "      <th>62421</th>\n",
       "      <td>209169</td>\n",
       "      <td>A Girl Thing</td>\n",
       "      <td>(no genres listed)</td>\n",
       "      <td>2001.0</td>\n",
       "    </tr>\n",
       "  </tbody>\n",
       "</table>\n",
       "<p>33070 rows × 4 columns</p>\n",
       "</div>"
      ],
      "text/plain": [
       "       movieId                title                     genres    year\n",
       "2677      2769           Yards, The                Crime|Drama  2000.0\n",
       "3084      3177          Next Friday                     Comedy  2000.0\n",
       "3097      3190            Supernova  Adventure|Sci-Fi|Thriller  2000.0\n",
       "3132      3225          Down to You             Comedy|Romance  2000.0\n",
       "3135      3228       Wirey Spindell                     Comedy  2000.0\n",
       "...        ...                  ...                        ...     ...\n",
       "62417   209155  Santosh Subramaniam      Action|Comedy|Romance  2008.0\n",
       "62418   209157                   We                      Drama  2018.0\n",
       "62419   209159   Window of the Soul                Documentary  2001.0\n",
       "62420   209163            Bad Poems               Comedy|Drama  2018.0\n",
       "62421   209169         A Girl Thing         (no genres listed)  2001.0\n",
       "\n",
       "[33070 rows x 4 columns]"
      ]
     },
     "execution_count": 3,
     "metadata": {},
     "output_type": "execute_result"
    }
   ],
   "source": [
    "df"
   ]
  },
  {
   "cell_type": "code",
   "execution_count": 13,
   "metadata": {},
   "outputs": [],
   "source": [
    "df_links = pd.read_csv('links.csv').merge(df['movieId'],on='movieId',how='right')"
   ]
  },
  {
   "cell_type": "code",
   "execution_count": 16,
   "metadata": {},
   "outputs": [],
   "source": [
    "df_links.to_pickle('links_2000.pkl')"
   ]
  },
  {
   "cell_type": "code",
   "execution_count": 29,
   "metadata": {},
   "outputs": [],
   "source": [
    "df = df_links.merge(movies,on='movieId')"
   ]
  },
  {
   "cell_type": "code",
   "execution_count": 1,
   "metadata": {},
   "outputs": [
    {
     "ename": "NameError",
     "evalue": "name 'df' is not defined",
     "output_type": "error",
     "traceback": [
      "\u001b[0;31m---------------------------------------------------------------------------\u001b[0m",
      "\u001b[0;31mNameError\u001b[0m                                 Traceback (most recent call last)",
      "Cell \u001b[0;32mIn[1], line 1\u001b[0m\n\u001b[0;32m----> 1\u001b[0m df[df[\u001b[38;5;124m'\u001b[39m\u001b[38;5;124mtitle\u001b[39m\u001b[38;5;124m'\u001b[39m]\u001b[38;5;241m==\u001b[39m\u001b[38;5;124m'\u001b[39m\u001b[38;5;124mThe Blue Planet (2001)\u001b[39m\u001b[38;5;124m'\u001b[39m]\n",
      "\u001b[0;31mNameError\u001b[0m: name 'df' is not defined"
     ]
    }
   ],
   "source": [
    "df[df['title']=='The Blue Planet (2001)']"
   ]
  }
 ],
 "metadata": {
  "kernelspec": {
   "display_name": "base",
   "language": "python",
   "name": "python3"
  },
  "language_info": {
   "codemirror_mode": {
    "name": "ipython",
    "version": 3
   },
   "file_extension": ".py",
   "mimetype": "text/x-python",
   "name": "python",
   "nbconvert_exporter": "python",
   "pygments_lexer": "ipython3",
   "version": "3.11.5"
  }
 },
 "nbformat": 4,
 "nbformat_minor": 2
}
